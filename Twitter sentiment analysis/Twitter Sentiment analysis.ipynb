{
 "cells": [
  {
   "cell_type": "code",
   "execution_count": 1,
   "metadata": {},
   "outputs": [],
   "source": [
    "import tweepy\n",
    "from textblob import TextBlob"
   ]
  },
  {
   "cell_type": "code",
   "execution_count": 2,
   "metadata": {},
   "outputs": [],
   "source": [
    "consumer_key='xxxxxxxxxxxxxxxxxxxxxxxx'\n",
    "consumer_secret='xxxxxxxxxxxxxxxxxxxxxxxx'\n",
    "access_token='xxxxxxxxxxxxxxxxxxxxxxxx'\n",
    "access_token_secret='xxxxxxxxxxxxxxxxxxxxxxxx'"
   ]
  },
  {
   "cell_type": "code",
   "execution_count": 3,
   "metadata": {},
   "outputs": [],
   "source": [
    "auth=tweepy.OAuthHandler(consumer_key,consumer_secret)\n",
    "auth.set_access_token(access_token,access_token_secret)\n",
    "api=tweepy.API(auth)"
   ]
  },
  {
   "cell_type": "code",
   "execution_count": 4,
   "metadata": {},
   "outputs": [
    {
     "name": "stdout",
     "output_type": "stream",
     "text": [
      "Error : Authentication Failed\n"
     ]
    }
   ],
   "source": [
    "try:\n",
    "    public_tweets=api.search('Sachin',200,lang='en')\n",
    "    tweets=[]\n",
    "    for tweet in public_tweets:\n",
    "        # empty dictionary to store required params of a tweet\n",
    "        parsed_tweet={}\n",
    "        \n",
    "        #saving text of a tweet\n",
    "        parsed_tweet['text']=tweet.text\n",
    "        #saving sentiment of a tweet\n",
    "        \n",
    "        analysis=TextBlob(tweet.text)\n",
    "        \n",
    "        if analysis.sentiment[0]>0:\n",
    "            parsed_tweet['sentiment']='positive'\n",
    "        elif analysis.sentiment[0]<0:\n",
    "            parsed_tweet['sentiment']='negative'\n",
    "        else:\n",
    "            parsed_tweet['sentiment']='neutral'\n",
    "        \n",
    "        #appending parsed tweet to tweets list\n",
    "        if tweet.retweet_count>0:\n",
    "            # if tweet has retweets , ensure that it is appended only once\n",
    "            if parsed_tweet not in tweets:\n",
    "                tweets.append(parsed_tweet)\n",
    "        else:\n",
    "            tweets.append(parsed_tweet)\n",
    "            \n",
    "except:\n",
    "    print(\"Error : Authentication Failed\")"
   ]
  },
  {
   "cell_type": "code",
   "execution_count": null,
   "metadata": {},
   "outputs": [],
   "source": [
    "ptweets=[tweet for tweet in tweets if tweet['sentiment']=='positive']\n",
    "\n",
    "print('Positive tweets perccentage :{} %'.format(100*len(ptweets)/len(tweets)))  \n",
    "\n",
    "ntweets=[tweet for tweet in tweets if tweet['sentiment']=='Negative']\n",
    "\n",
    "print('Negative tweets perccentage :{} %'.format(100*len(ntweets)/len(tweets)))  \n",
    "\n",
    "print(\"Neutral tweets percentage: {} %  \\\" \n",
    "      .format(100*(len(tweets)- (len(ntweets) + len(ptweets)))/len(tweets)))\n",
    "\n",
    "#printinng first 10 positive tweets\n",
    "\n",
    "print(\"\\n\\n Positive tweets:\")\n",
    "for tweet in ptweets[:10]:\n",
    "    print(tweet['text'])\n",
    "    \n",
    "#printing first 10 negative comments\n",
    "\n",
    "print(\"\\n\\n Negative tweets\")\n",
    "for tweet in ntweets[:10]:\n",
    "    print(tweet['text'])\n",
    "    \n",
    "    "
   ]
  }
 ],
 "metadata": {
  "kernelspec": {
   "display_name": "Python 3",
   "language": "python",
   "name": "python3"
  },
  "language_info": {
   "codemirror_mode": {
    "name": "ipython",
    "version": 3
   },
   "file_extension": ".py",
   "mimetype": "text/x-python",
   "name": "python",
   "nbconvert_exporter": "python",
   "pygments_lexer": "ipython3",
   "version": "3.8.3"
  }
 },
 "nbformat": 4,
 "nbformat_minor": 4
}

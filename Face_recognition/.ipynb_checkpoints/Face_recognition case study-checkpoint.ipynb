{
 "cells": [
  {
   "cell_type": "code",
   "execution_count": 1,
   "metadata": {},
   "outputs": [],
   "source": [
    "import face_recognition\n",
    "from PIL import Image,ImageDraw"
   ]
  },
  {
   "cell_type": "markdown",
   "metadata": {},
   "source": [
    "# Load a sample picture and learn how to recognize it\n"
   ]
  },
  {
   "cell_type": "code",
   "execution_count": 2,
   "metadata": {},
   "outputs": [],
   "source": [
    "sachin_image=face_recognition.load_image_file(\"images/sachin.jpg\")\n",
    "sachin_face_encoding=face_recognition.face_encodings(sachin_image)[0]"
   ]
  },
  {
   "cell_type": "markdown",
   "metadata": {},
   "source": [
    "# Load a second sample picture and learn how to recognize it"
   ]
  },
  {
   "cell_type": "code",
   "execution_count": 4,
   "metadata": {},
   "outputs": [],
   "source": [
    "dhoni_image=face_recognition.load_image_file(\"images/dhoni.jpg\")\n",
    "dhoni_face_encoding=face_recognition.face_encodings(dhoni_image)[0]"
   ]
  },
  {
   "cell_type": "markdown",
   "metadata": {},
   "source": [
    "# Create array of known face encodings and their labels"
   ]
  },
  {
   "cell_type": "code",
   "execution_count": 5,
   "metadata": {},
   "outputs": [],
   "source": [
    "known_face_encodings=[sachin_face_encoding,dhoni_face_encoding]\n",
    "known_face_names=['Sachin Tendulkar','M S Dhoni']"
   ]
  },
  {
   "cell_type": "markdown",
   "metadata": {},
   "source": [
    "# Load an image with an unknown face"
   ]
  },
  {
   "cell_type": "code",
   "execution_count": 6,
   "metadata": {},
   "outputs": [],
   "source": [
    "unknown_image=face_recognition.load_image_file(\"images/unknown.jpg\")"
   ]
  },
  {
   "cell_type": "markdown",
   "metadata": {},
   "source": [
    "# Find all the faces and face encodings in the unknown image"
   ]
  },
  {
   "cell_type": "code",
   "execution_count": 7,
   "metadata": {},
   "outputs": [],
   "source": [
    "face_locations=face_recognition.face_locations(unknown_image)\n",
    "face_encodings=face_recognition.face_encodings(unknown_image,face_locations)"
   ]
  },
  {
   "cell_type": "markdown",
   "metadata": {},
   "source": [
    "# Convert the image to a PIL-format  image so that we can draw on top of it with the Pillow library"
   ]
  },
  {
   "cell_type": "code",
   "execution_count": 9,
   "metadata": {},
   "outputs": [],
   "source": [
    "pil_image=Image.fromarray(unknown_image)"
   ]
  },
  {
   "cell_type": "markdown",
   "metadata": {},
   "source": [
    "# Create a pillow ImageDraw instance to draw with "
   ]
  },
  {
   "cell_type": "code",
   "execution_count": 10,
   "metadata": {},
   "outputs": [],
   "source": [
    "draw=ImageDraw.Draw(pil_image)"
   ]
  },
  {
   "cell_type": "markdown",
   "metadata": {},
   "source": [
    "# Loop through each face found in the unknown image "
   ]
  },
  {
   "cell_type": "code",
   "execution_count": 14,
   "metadata": {},
   "outputs": [],
   "source": [
    "for (top,right,bottom,left), face_encoding in zip(face_locations,face_encodings):\n",
    "    # See if the face is a match for the known face\n",
    "    matches=face_recognition.compare_faces(known_face_encodings,face_encoding)\n",
    "    \n",
    "    name='Unknown'\n",
    "    \n",
    "    #If a match was found in known_face_encodings , just use the first one\n",
    "    if True in matches:\n",
    "        first_match_index=matches.index(True)\n",
    "        name=known_face_names[first_match_index]\n",
    "        \n",
    "    # Draw a box around the face using the pillow module\n",
    "    draw.rectangle(((left,top),(right,bottom)),outline=(0,0,255))\n",
    "    \n",
    "    # Draw a Label with a name below the face\n",
    "    text_width,text_height=draw.textsize(name)\n",
    "    draw.rectangle(((left,bottom - text_height - 10),(right,bottom)),fill=(0,0,255), outline=(0,0,255))\n",
    "    draw.text((left+6,bottom-text_height-5),name,fill=(255,255,255,255))"
   ]
  },
  {
   "cell_type": "markdown",
   "metadata": {},
   "source": [
    "# Remove the drawing library from memory"
   ]
  },
  {
   "cell_type": "code",
   "execution_count": 15,
   "metadata": {},
   "outputs": [],
   "source": [
    "del draw"
   ]
  },
  {
   "cell_type": "markdown",
   "metadata": {},
   "source": [
    "# display the resulting image"
   ]
  },
  {
   "cell_type": "code",
   "execution_count": 16,
   "metadata": {},
   "outputs": [],
   "source": [
    "pil_image.show()"
   ]
  },
  {
   "cell_type": "markdown",
   "metadata": {},
   "source": [
    "# you can also save a copy of the image if you want"
   ]
  },
  {
   "cell_type": "code",
   "execution_count": 18,
   "metadata": {},
   "outputs": [],
   "source": [
    "pil_image.save(\"image_with_boxes.jpg\")"
   ]
  }
 ],
 "metadata": {
  "kernelspec": {
   "display_name": "Python 3",
   "language": "python",
   "name": "python3"
  },
  "language_info": {
   "codemirror_mode": {
    "name": "ipython",
    "version": 3
   },
   "file_extension": ".py",
   "mimetype": "text/x-python",
   "name": "python",
   "nbconvert_exporter": "python",
   "pygments_lexer": "ipython3",
   "version": "3.8.3"
  }
 },
 "nbformat": 4,
 "nbformat_minor": 4
}

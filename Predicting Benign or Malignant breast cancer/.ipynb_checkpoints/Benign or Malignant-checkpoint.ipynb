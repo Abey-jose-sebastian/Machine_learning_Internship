{
 "cells": [
  {
   "cell_type": "code",
   "execution_count": null,
   "metadata": {},
   "outputs": [],
   "source": [
    "import pandas as pd\n",
    "from keras.utils import to_categorical\n",
    "from sklearn.preprocessing import StandardScaler\n",
    "\n",
    "from sklearn.model_selection import train_test_split\n",
    "\n",
    "from tensorflow.keras import layers\n",
    "from tensorflow.keras import models"
   ]
  },
  {
   "cell_type": "markdown",
   "metadata": {},
   "source": [
    "# Part-1"
   ]
  },
  {
   "cell_type": "code",
   "execution_count": null,
   "metadata": {},
   "outputs": [],
   "source": [
    "data=pd.read_csv('Breast Cancer_ANN.csv')"
   ]
  },
  {
   "cell_type": "code",
   "execution_count": null,
   "metadata": {},
   "outputs": [],
   "source": [
    "data.head()"
   ]
  },
  {
   "cell_type": "code",
   "execution_count": null,
   "metadata": {},
   "outputs": [],
   "source": [
    "data.shape"
   ]
  },
  {
   "cell_type": "code",
   "execution_count": null,
   "metadata": {},
   "outputs": [],
   "source": [
    "data.columns"
   ]
  },
  {
   "cell_type": "code",
   "execution_count": null,
   "metadata": {},
   "outputs": [],
   "source": [
    "data.info()"
   ]
  },
  {
   "cell_type": "code",
   "execution_count": null,
   "metadata": {},
   "outputs": [],
   "source": [
    "data.isna().sum()"
   ]
  },
  {
   "cell_type": "code",
   "execution_count": null,
   "metadata": {},
   "outputs": [],
   "source": [
    "data['diagnosis'].value_counts(normalize=True)"
   ]
  },
  {
   "cell_type": "code",
   "execution_count": null,
   "metadata": {},
   "outputs": [],
   "source": [
    "#find the largest variable and work on it\n",
    "#first convert it into category and map it\n",
    "data.diagnosis=pd.Categorical(data['diagnosis'])\n",
    "data['diagnosis']=data['diagnosis'].map({'M':1,'B':0})\n",
    "y=data['diagnosis'] # y is ready now\n",
    "\n",
    "# select how many variables and which variables\n",
    "X=data.drop(['diagnosis','id','Unnamed: 32'],axis=1)\n",
    "\n",
    "#if not scaled using scaling\n",
    "scaler=StandardScaler()\n",
    "scaler.fit(X)\n",
    "X=scaler.transform(X)\n",
    "\n",
    "#divide the dataset into training and testing\n",
    "X_train,x_test,y_train,y_test=train_test_split(X,y,test_size=0.2,random_state=34)\n"
   ]
  },
  {
   "cell_type": "markdown",
   "metadata": {},
   "source": [
    "# Part-3"
   ]
  },
  {
   "cell_type": "code",
   "execution_count": null,
   "metadata": {},
   "outputs": [],
   "source": [
    "model1=models.Sequential()\n",
    "model1.add(layers.Dense(32,input_shape=(30,),activation='relu'))\n",
    "model1.add(layers.Dense(1,activation='sigmoid'))\n",
    "model1.summary()\n"
   ]
  },
  {
   "cell_type": "code",
   "execution_count": null,
   "metadata": {},
   "outputs": [],
   "source": [
    "model1.compile(optimizer='sgd',loss='binary_crossentropy',metrics=['accuracy'])"
   ]
  },
  {
   "cell_type": "markdown",
   "metadata": {},
   "source": [
    "# Part 4"
   ]
  },
  {
   "cell_type": "code",
   "execution_count": null,
   "metadata": {},
   "outputs": [],
   "source": [
    "#Train your model for 20 epochs\n",
    "model1.fit(X_train,y_train,epochs=20)\n",
    "\n",
    "# Evaluate your model accuracy on the test set\n",
    "accuracy=model1.evaluate(X_test,y_test)[1]\n",
    "\n",
    "# Print accuracy\n",
    "print(\"Accuracy: \",accuracy)"
   ]
  },
  {
   "cell_type": "markdown",
   "metadata": {},
   "source": [
    "# Part-5"
   ]
  },
  {
   "cell_type": "code",
   "execution_count": null,
   "metadata": {},
   "outputs": [],
   "source": [
    "# model 2\n",
    "\n",
    "model2=models.Sequential()\n",
    "model2.add(layers.Dense(256,input_shape=(30,),activation='relu'))\n",
    "model2.add(layers.Dropout(0.1))\n",
    "model2.add(layers.Dense(128,activation='relu'))\n",
    "model2.add(layers.Dropout(0.1))\n",
    "model2.add(layers.Dense(1,activation='sigmoid'))\n",
    "\n",
    "# Compile your model with optimizer,loss and metrics\n",
    "model2.compile(optimizer='adam',loss='binary_crossentropy',matrics=['accuracy'])\n",
    "\n",
    "#Display a summary of your model\n",
    "model2.summary()\n",
    "\n"
   ]
  },
  {
   "cell_type": "code",
   "execution_count": null,
   "metadata": {},
   "outputs": [],
   "source": [
    "#Train your model for 20 epochs\n",
    "model2.fit(X_train,y_train,epochs=20)\n",
    "\n",
    "# Evaluate your model accuracy on the test set\n",
    "accuracy=model2.evaluate(X_test,y_test)[1]\n",
    "\n",
    "# Print accuracy\n",
    "print(\"Accuracy: \",accuracy)"
   ]
  },
  {
   "cell_type": "code",
   "execution_count": null,
   "metadata": {},
   "outputs": [],
   "source": [
    "# model 3\n",
    "\n",
    "model3=models.Sequential()\n",
    "model3.add(layers.Dense(256,input_shape=(30,),activation='relu'))\n",
    "model3.add(layers.Dropout(0.1))\n",
    "model3.add(layers.Dense(256,activation='relu'))\n",
    "model3.add(layers.Dense(256,activation='relu'))\n",
    "model3.add(layers.Dense(128,activation='relu'))\n",
    "model3.add(layers.Dense(256,activation='relu'))\n",
    "model3.add(layers.Dense(256,activation='relu'))\n",
    "model3.add(layers.Dense(128,activation='relu'))\n",
    "model3.add(layers.Dropout(0.1))\n",
    "model3.add(layers.Dense(1,activation='sigmoid'))\n",
    "\n",
    "# Compile your model with optimizer,loss and metrics\n",
    "model3.compile(optimizer='adam',loss='binary_crossentropy',matrics=['accuracy'])\n",
    "\n",
    "#Display a summary of your model\n",
    "model3.summary()\n"
   ]
  },
  {
   "cell_type": "code",
   "execution_count": null,
   "metadata": {},
   "outputs": [],
   "source": [
    "#Train your model for 20 epochs\n",
    "model3.fit(X_train,y_train,epochs=20)\n",
    "\n",
    "# Evaluate your model accuracy on the test set\n",
    "accuracy=model3.evaluate(X_test,y_test)[1]\n",
    "\n",
    "# Print accuracy\n",
    "print(\"Accuracy: \",accuracy)"
   ]
  },
  {
   "cell_type": "code",
   "execution_count": null,
   "metadata": {},
   "outputs": [],
   "source": [
    "y_pred=model3.predict(X_test).flatten().round()\n",
    "\n",
    "from sklearn.metrics import confusion_matrix\n",
    "\n",
    "confusion_matrix(y_test,y_pred)"
   ]
  },
  {
   "cell_type": "code",
   "execution_count": null,
   "metadata": {},
   "outputs": [],
   "source": [
    "from keras.models import load_model\n",
    "\n",
    "model3.save('latest_model.h5')\n",
    "\n",
    "my_model=load_model('latest_model.h5')\n",
    "\n",
    "predictions=my_model.predict(X_test)\n",
    "\n",
    "predictions.flatten()"
   ]
  },
  {
   "cell_type": "code",
   "execution_count": null,
   "metadata": {},
   "outputs": [],
   "source": []
  }
 ],
 "metadata": {
  "kernelspec": {
   "display_name": "Python 3",
   "language": "python",
   "name": "python3"
  },
  "language_info": {
   "codemirror_mode": {
    "name": "ipython",
    "version": 3
   },
   "file_extension": ".py",
   "mimetype": "text/x-python",
   "name": "python",
   "nbconvert_exporter": "python",
   "pygments_lexer": "ipython3",
   "version": "3.8.3"
  }
 },
 "nbformat": 4,
 "nbformat_minor": 4
}
